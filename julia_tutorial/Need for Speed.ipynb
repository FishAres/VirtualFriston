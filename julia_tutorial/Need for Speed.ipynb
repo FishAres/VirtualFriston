{
 "cells": [
  {
   "cell_type": "markdown",
   "metadata": {},
   "source": [
    "Computer scientists often classify programming languages according to the following two categories\n",
    "\n",
    "*High level* languages aim to maximize productivity by\n",
    "\n",
    "* being easy to read, write and debug\n",
    "* automating standard tasks (e.g., memory management)\n",
    "* being interactive, etc.\n",
    "\n",
    "*Low level* languages aim for speed and control, which they achieve by\n",
    "\n",
    "* being closer to the metal (direct access to CPU, memory, etc.)\n",
    "* requiring a relatively large amount of information from the user (e.g., all * data types must be specified)\n",
    "\n",
    "Traditionally we understand this as a trade off\n",
    "\n",
    "* high productivity or high performance\n",
    "* optimized for humans or optimized for machines\n",
    "* One of the great strengths of Julia is that it pushes out the curve, achieving both high productivity and high performance with relatively little fuss\n",
    "\n",
    "The word “relatively” is important here, however…\n",
    "\n",
    "In simple programs, excellent performance is often trivial to achieve\n",
    "\n",
    "For longer, more sophisticated programs, you need to be aware of potential stumbling blocks"
   ]
  },
  {
   "cell_type": "markdown",
   "metadata": {},
   "source": [
    "## How machine code is generated:\n",
    "\n",
    "### AOT compiled languages (C/C++, Fortran)\n",
    "\n",
    "* Users have to provide a **lot** of detail on types etc.\n",
    "\n",
    "This means:\n",
    "* Coding can be tedious\n",
    "* Loss of interactivity\n",
    "\n",
    "### Interpreted languages (Python, Matlab, etc.)\n",
    "\n",
    "* Machine code is generated \"on the fly\"\n",
    "* We don't have to specify types or fiddle with memory allocation\n",
    "\n",
    "This means:\n",
    "* Runtime has to check the type of each object one at a time\n",
    "    * Substantial overhead\n",
    "* Overhead also in accessing the data values themselves\n",
    "\n",
    "* Slow and unwieldy machine code\n",
    "\n",
    "### Just-in-time compiles languages (Julia)\n",
    "\n",
    "Middle ground between the two:\n",
    "\n",
    "* Functions are compiled as requested\n",
    "* The compiler will attempt to infer missing information (e.g. type hierarchy)\n",
    "* Machine code efficiency scales with the amount of information specified\n",
    "\n",
    "In the setting where all the necessary information is provided or inferrable, Julia will run as fast as an AOT language"
   ]
  },
  {
   "cell_type": "code",
   "execution_count": 1,
   "metadata": {},
   "outputs": [
    {
     "data": {
      "text/plain": [
       "f (generic function with 1 method)"
      ]
     },
     "execution_count": 1,
     "metadata": {},
     "output_type": "execute_result"
    }
   ],
   "source": [
    "function f(a, b)\n",
    "    y = (a + 8b)^2\n",
    "    return 7y\n",
    "end"
   ]
  },
  {
   "cell_type": "code",
   "execution_count": 2,
   "metadata": {},
   "outputs": [
    {
     "data": {
      "text/plain": [
       "2023"
      ]
     },
     "execution_count": 2,
     "metadata": {},
     "output_type": "execute_result"
    }
   ],
   "source": [
    "z = f(1,2)"
   ]
  },
  {
   "cell_type": "markdown",
   "metadata": {},
   "source": [
    "Now the JIT compiler knows the types of a and b (since we specified them), and can infer the types of other variables in the function (e.g. y will be an integer as well). "
   ]
  },
  {
   "cell_type": "code",
   "execution_count": 3,
   "metadata": {},
   "outputs": [
    {
     "name": "stdout",
     "output_type": "stream",
     "text": [
      "\t.text\n",
      "; Function f {\n",
      "; Location: In[1]:2\n",
      "\tpushq\t%rbp\n",
      "\tmovq\t%rsp, %rbp\n",
      "; Function +; {\n",
      "; Location: int.jl:53\n",
      "\tleaq\t(%rcx,%rdx,8), %rcx\n",
      ";}\n",
      "; Function literal_pow; {\n",
      "; Location: intfuncs.jl:243\n",
      "; Function *; {\n",
      "; Location: int.jl:54\n",
      "\timulq\t%rcx, %rcx\n",
      ";}}\n",
      "; Location: In[1]:3\n",
      "; Function *; {\n",
      "; Location: int.jl:54\n",
      "\tleaq\t(,%rcx,8), %rax\n",
      "\tsubq\t%rcx, %rax\n",
      ";}\n",
      "\tpopq\t%rbp\n",
      "\tretq\n",
      "\tnopl\t(%rax)\n",
      ";}\n"
     ]
    }
   ],
   "source": [
    "@code_native f(1, 2)"
   ]
  },
  {
   "cell_type": "code",
   "execution_count": 15,
   "metadata": {},
   "outputs": [
    {
     "name": "stdout",
     "output_type": "stream",
     "text": [
      "  0.000002 seconds (5 allocations: 176 bytes)\n",
      "  0.000003 seconds (5 allocations: 176 bytes)\n"
     ]
    },
    {
     "data": {
      "text/plain": [
       "1008"
      ]
     },
     "execution_count": 15,
     "metadata": {},
     "output_type": "execute_result"
    }
   ],
   "source": [
    "@time f(2,3)\n",
    "@time f(4,1) # notice it's really fast for integers now"
   ]
  },
  {
   "cell_type": "code",
   "execution_count": 16,
   "metadata": {},
   "outputs": [
    {
     "name": "stdout",
     "output_type": "stream",
     "text": [
      "  0.005848 seconds (13.71 k allocations: 772.420 KiB)\n"
     ]
    },
    {
     "data": {
      "text/plain": [
       "4732.0"
      ]
     },
     "execution_count": 16,
     "metadata": {},
     "output_type": "execute_result"
    }
   ],
   "source": [
    "@time f(2.0, 3) # But takes longer for floats the first time around"
   ]
  },
  {
   "cell_type": "code",
   "execution_count": 17,
   "metadata": {},
   "outputs": [
    {
     "name": "stdout",
     "output_type": "stream",
     "text": [
      "  0.010885 seconds (18.06 k allocations: 1004.903 KiB)\n"
     ]
    },
    {
     "data": {
      "text/plain": [
       "6300.0"
      ]
     },
     "execution_count": 17,
     "metadata": {},
     "output_type": "execute_result"
    }
   ],
   "source": [
    "@time f(2.0, 3.5)"
   ]
  },
  {
   "cell_type": "markdown",
   "metadata": {},
   "source": [
    "This is an example where the JIT compiler is really fast. However, there are situations where it generates messy machine code. \n",
    "\n",
    "### Example: Global variables"
   ]
  },
  {
   "cell_type": "code",
   "execution_count": 37,
   "metadata": {},
   "outputs": [
    {
     "data": {
      "text/plain": [
       "g (generic function with 2 methods)"
      ]
     },
     "execution_count": 37,
     "metadata": {},
     "output_type": "execute_result"
    }
   ],
   "source": [
    "b = 1.0 # global variable\n",
    "\n",
    "function g(a)\n",
    "    for i in 1:1_000_000\n",
    "        tmp = a + b\n",
    "    end\n",
    "end"
   ]
  },
  {
   "cell_type": "code",
   "execution_count": 40,
   "metadata": {},
   "outputs": [
    {
     "name": "stdout",
     "output_type": "stream",
     "text": [
      "  0.032688 seconds (1.00 M allocations: 15.259 MiB, 2.31% gc time)\n",
      "  0.030455 seconds (1.00 M allocations: 15.259 MiB)\n"
     ]
    }
   ],
   "source": [
    "@time g(10)\n",
    "@time g(10) # this doesn't really get faster though"
   ]
  },
  {
   "cell_type": "code",
   "execution_count": 20,
   "metadata": {},
   "outputs": [
    {
     "name": "stdout",
     "output_type": "stream",
     "text": [
      "\t.text\n",
      "; Function g {\n",
      "; Location: In[18]:4\n",
      "\tpushq\t%rbp\n",
      "\tmovq\t%rsp, %rbp\n",
      "\tpushq\t%r15\n",
      "\tpushq\t%r14\n",
      "\tpushq\t%r12\n",
      "\tpushq\t%rsi\n",
      "\tpushq\t%rdi\n",
      "\tpushq\t%rbx\n",
      "\tandq\t$-32, %rsp\n",
      "\tsubq\t$128, %rsp\n",
      "\tvmovaps\t%xmm6, -64(%rbp)\n",
      "\tvmovaps\t%xmm0, %xmm6\n",
      "\tvxorps\t%xmm0, %xmm0, %xmm0\n",
      "\tvmovaps\t%ymm0, 32(%rsp)\n",
      "\tmovl\t$jl_get_ptls_states, %eax\n",
      "\tvzeroupper\n",
      "\tcallq\t*%rax\n",
      "\tmovq\t%rax, %rsi\n",
      "\tmovq\t$4, 32(%rsp)\n",
      "\tmovq\t(%rsi), %rax\n",
      "\tmovq\t%rax, 40(%rsp)\n",
      "\tleaq\t32(%rsp), %rax\n",
      "\tmovq\t%rax, (%rsi)\n",
      "\tmovl\t$1000000, %ebx          # imm = 0xF4240\n",
      "\tmovabsq\t$jl_gc_pool_alloc, %r14\n",
      "\tmovabsq\t$jl_apply_generic, %r15\n",
      "\tleaq\t88(%rsp), %r12\n",
      "\tnop\n",
      "; Location: In[18]:5\n",
      "L112:\n",
      "\tmovq\t267151560, %rdi\n",
      "\tmovq\t%rdi, 48(%rsp)\n",
      "\tmovl\t$1488, %edx             # imm = 0x5D0\n",
      "\tmovl\t$16, %r8d\n",
      "\tmovq\t%rsi, %rcx\n",
      "\tcallq\t*%r14\n",
      "\tmovq\t$jl_system_image_data, -8(%rax)\n",
      "\tvmovsd\t%xmm6, (%rax)\n",
      "\tmovq\t%rax, 56(%rsp)\n",
      "\tmovq\t$jl_system_image_data, 88(%rsp)\n",
      "\tmovq\t%rax, 96(%rsp)\n",
      "\tmovq\t%rdi, 104(%rsp)\n",
      "\tmovl\t$3, %edx\n",
      "\tmovq\t%r12, %rcx\n",
      "\tcallq\t*%r15\n",
      "; Function iterate; {\n",
      "; Location: range.jl:575\n",
      "; Function ==; {\n",
      "; Location: promotion.jl:425\n",
      "\taddq\t$-1, %rbx\n",
      ";}}\n",
      "\tjne\tL112\n",
      "\tmovq\t40(%rsp), %rax\n",
      "\tmovq\t%rax, (%rsi)\n",
      "\tvmovaps\t-64(%rbp), %xmm6\n",
      "\tleaq\t-48(%rbp), %rsp\n",
      "\tpopq\t%rbx\n",
      "\tpopq\t%rdi\n",
      "\tpopq\t%rsi\n",
      "\tpopq\t%r12\n",
      "\tpopq\t%r14\n",
      "\tpopq\t%r15\n",
      "\tpopq\t%rbp\n",
      "\tretq\n",
      "\tnop\n",
      ";}\n"
     ]
    }
   ],
   "source": [
    "@code_native g(1.0)"
   ]
  },
  {
   "cell_type": "markdown",
   "metadata": {},
   "source": [
    "### Without global variable:"
   ]
  },
  {
   "cell_type": "code",
   "execution_count": 35,
   "metadata": {},
   "outputs": [
    {
     "data": {
      "text/plain": [
       "g (generic function with 2 methods)"
      ]
     },
     "execution_count": 35,
     "metadata": {},
     "output_type": "execute_result"
    }
   ],
   "source": [
    "function g(a, b)\n",
    "    for i in 1:1_000_000\n",
    "        tmp = a + b\n",
    "    end\n",
    "end"
   ]
  },
  {
   "cell_type": "code",
   "execution_count": 36,
   "metadata": {},
   "outputs": [
    {
     "name": "stdout",
     "output_type": "stream",
     "text": [
      "  0.006150 seconds (11.15 k allocations: 610.749 KiB)\n",
      "  0.000003 seconds (4 allocations: 160 bytes)\n"
     ]
    }
   ],
   "source": [
    "@time g(1.0, 1.0) # 10x faster \n",
    "@time g(1.0, 1.0) # and now 1000x! "
   ]
  },
  {
   "cell_type": "code",
   "execution_count": 28,
   "metadata": {},
   "outputs": [
    {
     "name": "stdout",
     "output_type": "stream",
     "text": [
      "\t.text\n",
      "; Function g {\n",
      "; Location: In[21]:2\n",
      "\tpushq\t%rbp\n",
      "\tmovq\t%rsp, %rbp\n",
      "; Location: In[21]:3\n",
      "\tpopq\t%rbp\n",
      "\tretq\n",
      "\tnopw\t%cs:(%rax,%rax)\n",
      ";}\n"
     ]
    }
   ],
   "source": [
    "@code_native g(1.0, 1.0) # and much cleaner machine code"
   ]
  },
  {
   "cell_type": "markdown",
   "metadata": {},
   "source": [
    "## Using \"const\""
   ]
  },
  {
   "cell_type": "code",
   "execution_count": 42,
   "metadata": {},
   "outputs": [
    {
     "data": {
      "text/plain": [
       "g (generic function with 2 methods)"
      ]
     },
     "execution_count": 42,
     "metadata": {},
     "output_type": "execute_result"
    }
   ],
   "source": [
    "const c = 1.0\n",
    "function g(a)\n",
    "    for i in 1:1_000_000\n",
    "        tmp = a + c\n",
    "    end\n",
    "end"
   ]
  },
  {
   "cell_type": "code",
   "execution_count": 45,
   "metadata": {},
   "outputs": [
    {
     "name": "stdout",
     "output_type": "stream",
     "text": [
      "  0.000003 seconds (4 allocations: 160 bytes)\n",
      "  0.000003 seconds (4 allocations: 160 bytes)\n"
     ]
    }
   ],
   "source": [
    "@time g(1.0, 1.0) # 1000x faster to begin with :)\n",
    "@time g(1.0, 1.0)"
   ]
  },
  {
   "cell_type": "code",
   "execution_count": 46,
   "metadata": {},
   "outputs": [
    {
     "name": "stdout",
     "output_type": "stream",
     "text": [
      "\t.text\n",
      "; Function g {\n",
      "; Location: In[35]:2\n",
      "\tpushq\t%rbp\n",
      "\tmovq\t%rsp, %rbp\n",
      "; Location: In[35]:3\n",
      "\tpopq\t%rbp\n",
      "\tretq\n",
      "\tnopw\t%cs:(%rax,%rax)\n",
      ";}\n"
     ]
    }
   ],
   "source": [
    "@code_native g(1.0, 1.0)"
   ]
  },
  {
   "cell_type": "markdown",
   "metadata": {},
   "source": [
    "## Conclusion:\n",
    "\n",
    "Use concrete types when the compiler needs help and is likely to screw up\n",
    "\n",
    "## Tips\n",
    "\n",
    "Use functions to segregate operations cleanly (which also helps with performance when we provide types for one of the functions)"
   ]
  },
  {
   "cell_type": "code",
   "execution_count": null,
   "metadata": {},
   "outputs": [],
   "source": []
  }
 ],
 "metadata": {
  "kernelspec": {
   "display_name": "Julia 1.0.0",
   "language": "julia",
   "name": "julia-1.0"
  },
  "language_info": {
   "file_extension": ".jl",
   "mimetype": "application/julia",
   "name": "julia",
   "version": "1.0.0"
  }
 },
 "nbformat": 4,
 "nbformat_minor": 2
}
